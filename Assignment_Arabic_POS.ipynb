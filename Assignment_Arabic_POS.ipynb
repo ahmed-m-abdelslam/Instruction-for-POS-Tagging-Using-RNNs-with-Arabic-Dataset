{
  "cells": [
    {
      "cell_type": "markdown",
      "metadata": {
        "id": "MfzyR5kGUUfp"
      },
      "source": [
        "**Instruction for POS Tagging Using RNNs with Arabic Dataset**\n",
        "\n",
        "**Dataset:**\n",
        "The dataset provided is named \"Assignment 2 - Arabic POS.conllu\". It contains labeled data for Arabic text with Part-of-Speech (POS) tags in CoNLL-U format.\n",
        "\n",
        "**Objective:**\n",
        "Your objective is to perform Part-of-Speech (POS) tagging on Arabic text using Recurrent Neural Networks (RNNs). Specifically, you will use the Universal POS (UPOS) tags for tagging. UPOS is a standardized set of POS tags that aims to cover all languages.\n",
        "\n",
        "**Evaluation metric:**\n",
        "Accuracy\n",
        "\n",
        "**Instructions:**\n",
        "1. **Data Preprocessing:**\n",
        "   - Load the provided dataset \"Assignment 2 - Arabic POS.conllu\". You can use pyconll library\n",
        "   - Preprocess the data as necessary, including tokenization\n",
        "\n",
        "2. **Model Building:**\n",
        "   - Design an RNN-based model architecture suitable for POS tagging. You may consider using recurrent layers such as (LSTM) or (GRU).\n",
        "   - Define the input and output layers of the model. The input layer should accept sequences of tokens, and the output layer should produce the predicted UPOS tags for each token.\n",
        "\n",
        "3. **Training:**\n",
        "\n",
        "4. **Evaluation:**\n",
        "\n",
        "**Additional Notes:**\n",
        "- Make sure to document your code thoroughly and provide clear explanations for each step.\n",
        "- Feel free to explore different RNN architectures, hyperparameters, and optimization techniques to improve the model's accuracy."
      ]
    },
    {
      "cell_type": "markdown",
      "metadata": {
        "id": "v-6lrKz6orxT"
      },
      "source": [
        "### Import used libraries"
      ]
    },
    {
      "cell_type": "code",
      "execution_count": 255,
      "metadata": {
        "id": "eXUPo3g4orxV"
      },
      "outputs": [],
      "source": [
        "import re\n",
        "import pyconll\n",
        "import numpy as np\n",
        "import matplotlib.pyplot as plt\n",
        "from tensorflow.keras.preprocessing.text import Tokenizer\n",
        "from sklearn.model_selection import train_test_split\n",
        "from tensorflow.keras.preprocessing.sequence import pad_sequences\n",
        "from tensorflow.keras.models import Sequential\n",
        "from tensorflow.keras.layers import Embedding, LSTM, Dense, TimeDistributed, Bidirectional, Dropout ,SimpleRNN ,GRU\n",
        "from tensorflow.keras.callbacks import ModelCheckpoint"
      ]
    },
    {
      "cell_type": "markdown",
      "metadata": {
        "id": "fG8MkuvjorxX"
      },
      "source": [
        "### Load Dataset"
      ]
    },
    {
      "cell_type": "code",
      "execution_count": 170,
      "metadata": {
        "id": "BYeqhp66orxY"
      },
      "outputs": [],
      "source": [
        "corpus = pyconll.load_from_file(\"/content/Assignment 2 - Arabic POS.conllu\")"
      ]
    },
    {
      "cell_type": "markdown",
      "metadata": {
        "id": "SH-_DHdXUUfs"
      },
      "source": [
        "### Data Clean and Splitting"
      ]
    },
    {
      "cell_type": "code",
      "source": [
        "for i,sentence in enumerate(corpus):\n",
        "  seq =[]\n",
        "  for token in sentence:\n",
        "    seq.append(token.form)\n",
        "  print(seq)\n",
        "  if i ==5:\n",
        "    break"
      ],
      "metadata": {
        "colab": {
          "base_uri": "https://localhost:8080/"
        },
        "id": "3ZWb-baZQy5Y",
        "outputId": "cc8124e2-a8a2-44ac-b809-77d2e9983143"
      },
      "execution_count": 181,
      "outputs": [
        {
          "output_type": "stream",
          "name": "stdout",
          "text": [
            "['برلين', 'ترفض', 'حصول', 'شركة', 'اميركية', 'على', 'رخصة', 'تصنيع', 'دبابة', '\"', 'ليوبارد', '\"', 'الالمانية']\n",
            "['برلين', '15', '-', '7', '(', 'اف', 'ب', ')', '-', 'افادت', 'صحيفة', 'الاحد', 'الالمانية', '\"', 'ويلت', 'ام', 'سونتاغ', '\"', 'في', 'عددها', 'عدد', 'ها', 'الصادر', 'غدا', '،', 'ان', 'المستشار', 'غيرهارد', 'شرودر', 'يرفض', 'حصول', 'المجموعة', 'الاميركية', '\"', 'جنرال', 'ديناميكس', '\"', 'على', 'رخصة', 'لتصنيع', 'ل', 'تصنيع', 'الدبابة', 'الالمانية', '\"', 'ليوبارد', '2', '\"', 'عبر', 'شراء', 'المجموعة', 'الحكومية', 'الاسبانية', 'للاسلحة', 'ل', 'الأسلحة', '\"', 'سانتا', 'بربارة', '\"', '.']\n",
            "['وفي', 'و', 'في', 'نيسان', '/', 'ابريل', 'الماضي', '،', 'تخلت', 'الدولة', 'الاسبانية', 'عن', 'مجموعة', '\"', 'سانتا', 'بربارة', '\"', 'التي', 'تصنع', 'دبابات', 'ليوبارد', 'الالمانية', '،', 'الى', '\"', 'جنرال', 'ديناميكس', '\"', 'التي', 'تنتج', 'الدبابة', 'الاميركية', '\"', 'ام', '1', 'ابرامس', '\"', 'المعتبرة', 'المنافسة', 'الرئيسية', 'لدبابة', 'ل', 'دبابة', 'ليوبارد', 'في', 'الاسواق', '.']\n",
            "['وكانت', 'و', 'كانت', 'خسائر', 'المجموعة', 'الاسبانية', 'الرسمية', 'تراكمت', 'في', 'السنوات', 'العشر', 'الاخيرة', 'لتبلغ', 'ل', 'تبلغ', '920', 'مليون', 'يورو', '.']\n",
            "['واشارت', 'و', 'أشارت', 'صحيفة', 'الاحد', 'الى', 'ان', 'المستشار', 'شرودر', 'يعتبر', 'ان', 'حصول', 'المجموعة', 'الاميركية', 'على', 'رخصة', 'تصنيع', 'ليوبارد', '2', 'يعرض', 'للخطر', 'ل', 'الخطر', 'المصالح', 'التكنولوجية', 'الاساسية', 'لالمانيا', 'ل', 'ألمانيا', 'وطلب', 'و', 'طلب', 'من', 'وزير', 'الدفاع', 'رودولف', 'شاربينغ', 'التوجه', 'الى', 'اسبانيا', '.']\n",
            "['وتعذر', 'و', 'تعذر', 'لمتحدثة', 'ل', 'متحدثة', 'باسم', 'ب', 'اسم', 'وزارة', 'الدفاع', 'الالمانية', 'ان', 'تؤكد', 'اليوم', 'السبت', 'هذه', 'المعلومات', '.']\n"
          ]
        }
      ]
    },
    {
      "cell_type": "code",
      "execution_count": 182,
      "metadata": {
        "id": "fPdvSmvvUUfs"
      },
      "outputs": [],
      "source": [
        "def clean_data(token):\n",
        "    if len(token) == 1 and re.match(r'[\\u0600-\\u06FF]', token):\n",
        "        return ''\n",
        "    return token\n",
        "\n",
        "def clean_upos(pos):\n",
        "    cleaned_pos = re.sub(r'[X]', '', pos)\n",
        "    return cleaned_pos\n",
        "\n",
        "clean_sentences = []\n",
        "clean_upos_tags = []\n",
        "\n",
        "for sentence in corpus:\n",
        "    clean_tokens = []\n",
        "    clean_tags = []\n",
        "    for token in sentence:\n",
        "        if token.form and token.upos:\n",
        "            token_after_clean = clean_data(token.form)\n",
        "            pos_after_clean = clean_upos(token.upos)\n",
        "            if token_after_clean and pos_after_clean :\n",
        "                clean_tokens.append(token_after_clean)\n",
        "                clean_tags.append(pos_after_clean)\n",
        "    if clean_tokens:\n",
        "        clean_sentences.append(clean_tokens)\n",
        "        clean_upos_tags.append(clean_tags)"
      ]
    },
    {
      "cell_type": "code",
      "execution_count": 183,
      "metadata": {
        "colab": {
          "base_uri": "https://localhost:8080/"
        },
        "id": "jKhIbWBdUUfs",
        "outputId": "089d5c45-ad4a-4bee-831a-27797ec5aa8e"
      },
      "outputs": [
        {
          "output_type": "stream",
          "name": "stdout",
          "text": [
            "Token: 15, UPOS: NUM\n",
            "Token: -, UPOS: PUNCT\n",
            "Token: 7, UPOS: NUM\n",
            "Token: (, UPOS: PUNCT\n",
            "Token: ), UPOS: PUNCT\n",
            "Token: -, UPOS: PUNCT\n",
            "Token: افادت, UPOS: VERB\n",
            "Token: صحيفة, UPOS: NOUN\n",
            "Token: الاحد, UPOS: NOUN\n",
            "Token: الالمانية, UPOS: ADJ\n",
            "Token: \", UPOS: PUNCT\n",
            "Token: \", UPOS: PUNCT\n",
            "Token: في, UPOS: ADP\n",
            "Token: عدد, UPOS: NOUN\n",
            "Token: ها, UPOS: PRON\n",
            "Token: الصادر, UPOS: ADJ\n",
            "Token: غدا, UPOS: NOUN\n",
            "Token: ان, UPOS: SCONJ\n",
            "Token: المستشار, UPOS: NOUN\n",
            "Token: يرفض, UPOS: VERB\n",
            "Token: حصول, UPOS: NOUN\n",
            "Token: المجموعة, UPOS: NOUN\n",
            "Token: الاميركية, UPOS: ADJ\n",
            "Token: \", UPOS: PUNCT\n",
            "Token: \", UPOS: PUNCT\n",
            "Token: على, UPOS: ADP\n",
            "Token: رخصة, UPOS: NOUN\n",
            "Token: تصنيع, UPOS: NOUN\n",
            "Token: الدبابة, UPOS: NOUN\n",
            "Token: الالمانية, UPOS: ADJ\n",
            "Token: \", UPOS: PUNCT\n",
            "Token: 2, UPOS: NUM\n",
            "Token: \", UPOS: PUNCT\n",
            "Token: عبر, UPOS: ADP\n",
            "Token: شراء, UPOS: NOUN\n",
            "Token: المجموعة, UPOS: NOUN\n",
            "Token: الحكومية, UPOS: ADJ\n",
            "Token: الاسبانية, UPOS: ADJ\n",
            "Token: الأسلحة, UPOS: NOUN\n",
            "Token: \", UPOS: PUNCT\n",
            "Token: \", UPOS: PUNCT\n",
            "Token: ., UPOS: PUNCT\n"
          ]
        }
      ],
      "source": [
        "list1 = clean_sentences[1]\n",
        "list2 = clean_upos_tags[1]\n",
        "for i ,j in zip(list1, list2):\n",
        "  print(f\"Token: {i}, UPOS: {j}\")"
      ]
    },
    {
      "cell_type": "code",
      "source": [
        "print(len(clean_sentences))\n",
        "print(len(clean_upos_tags))"
      ],
      "metadata": {
        "colab": {
          "base_uri": "https://localhost:8080/"
        },
        "id": "OOaNFlHm1K9f",
        "outputId": "0da6beeb-b4ee-4583-db36-e0f7f2e37087"
      },
      "execution_count": 184,
      "outputs": [
        {
          "output_type": "stream",
          "name": "stdout",
          "text": [
            "6036\n",
            "6036\n"
          ]
        }
      ]
    },
    {
      "cell_type": "code",
      "source": [
        "X_train, X_test, y_train, y_test = train_test_split(clean_sentences,clean_upos_tags, test_size=0.2, random_state=42)"
      ],
      "metadata": {
        "id": "VLSuE9rDpZqY"
      },
      "execution_count": 261,
      "outputs": []
    },
    {
      "cell_type": "code",
      "source": [],
      "metadata": {
        "id": "WpRHJinJppfF"
      },
      "execution_count": 257,
      "outputs": []
    },
    {
      "cell_type": "code",
      "source": [
        "\"\"\"X_train = clean_sentences[:4860]\n",
        "Y_train = clean_upos_tags[:4860]\n",
        "X_test = clean_sentences[4860:]\n",
        "Y_test = clean_upos_tags[4860:]\"\"\""
      ],
      "metadata": {
        "id": "p7MOpxgW1bhS"
      },
      "execution_count": 258,
      "outputs": []
    },
    {
      "cell_type": "code",
      "source": [
        "len(X_train)"
      ],
      "metadata": {
        "colab": {
          "base_uri": "https://localhost:8080/"
        },
        "id": "15-eJZPtpv2Q",
        "outputId": "a363ac09-0715-44fe-cc4d-c6ce27c992c5"
      },
      "execution_count": 262,
      "outputs": [
        {
          "output_type": "execute_result",
          "data": {
            "text/plain": [
              "4828"
            ]
          },
          "metadata": {},
          "execution_count": 262
        }
      ]
    },
    {
      "cell_type": "markdown",
      "metadata": {
        "id": "XyJkqK9gorxe"
      },
      "source": [
        "### Preprocessing"
      ]
    },
    {
      "cell_type": "code",
      "execution_count": 263,
      "metadata": {
        "id": "GVjzzLhworxe"
      },
      "outputs": [],
      "source": [
        "tokenizer = Tokenizer()\n",
        "tokenizer.fit_on_texts(X_train)\n",
        "\n",
        "X_train_data = tokenizer.texts_to_sequences(X_train)\n",
        "X_test_data = tokenizer.texts_to_sequences(X_test)\n",
        "VOCAB_SIZE = len(tokenizer.word_index)+1"
      ]
    },
    {
      "cell_type": "code",
      "execution_count": 264,
      "metadata": {
        "id": "u2EYQvrBorxf"
      },
      "outputs": [],
      "source": [
        "tag_tokenizer = Tokenizer()\n",
        "tag_tokenizer.fit_on_texts(y_train)\n",
        "\n",
        "Y_train_data = tag_tokenizer.texts_to_sequences(y_train)\n",
        "Y_test_data = tag_tokenizer.texts_to_sequences(y_test)\n",
        "tag_size = len(tag_tokenizer.word_index)"
      ]
    },
    {
      "cell_type": "code",
      "source": [
        "plt.hist([len(s) for s in clean_sentences], bins=50)\n",
        "plt.show()"
      ],
      "metadata": {
        "colab": {
          "base_uri": "https://localhost:8080/",
          "height": 430
        },
        "id": "z54DmjRY4qUZ",
        "outputId": "5d4e5a4a-e40e-4e6e-a3c0-ad49f442cdca"
      },
      "execution_count": 265,
      "outputs": [
        {
          "output_type": "display_data",
          "data": {
            "text/plain": [
              "<Figure size 640x480 with 1 Axes>"
            ],
            "image/png": "[encoded data removed]"
          },
          "metadata": {}
        }
      ]
    },
    {
      "cell_type": "code",
      "source": [
        "max_len = max(len(seq) for seq in clean_sentences)\n",
        "print(\"Maximum sequence length:\", max_len)"
      ],
      "metadata": {
        "colab": {
          "base_uri": "https://localhost:8080/"
        },
        "id": "2dUOTa4Q5EE7",
        "outputId": "e222b138-61c2-4ea8-eec0-a39115dae561"
      },
      "execution_count": 266,
      "outputs": [
        {
          "output_type": "stream",
          "name": "stdout",
          "text": [
            "Maximum sequence length: 285\n"
          ]
        }
      ]
    },
    {
      "cell_type": "code",
      "execution_count": 267,
      "metadata": {
        "id": "YLKDkH1LUUft"
      },
      "outputs": [],
      "source": [
        "max_len = 50\n",
        "\n",
        "X_train = pad_sequences(X_train_data, maxlen=max_len, padding='post')\n",
        "X_test = pad_sequences(X_test_data, maxlen=max_len, padding='post')\n",
        "\n",
        "y_train = pad_sequences(Y_train_data, maxlen=max_len, padding='post')\n",
        "y_test = pad_sequences(Y_test_data, maxlen=max_len, padding='post')"
      ]
    },
    {
      "cell_type": "code",
      "source": [
        "X_validation = X_test[:588]\n",
        "x_final_test = X_test[588:]\n",
        "y_validation = y_test[:588]\n",
        "y_final_test = y_test[588:]"
      ],
      "metadata": {
        "id": "8X1Iz8kYbmBi"
      },
      "execution_count": 268,
      "outputs": []
    },
    {
      "cell_type": "markdown",
      "metadata": {
        "id": "R9BhRQbYorxf"
      },
      "source": [
        "### Modelling"
      ]
    },
    {
      "cell_type": "markdown",
      "source": [
        "# RNN Model"
      ],
      "metadata": {
        "id": "mhuEjIeJ6OZQ"
      }
    },
    {
      "cell_type": "code",
      "source": [
        "Rnn_model = Sequential()\n",
        "Rnn_model.add(Embedding(input_dim=VOCAB_SIZE, output_dim=128, input_length=max_len))\n",
        "Rnn_model.add(Bidirectional(SimpleRNN(units=64, return_sequences=True, dropout=0.5, recurrent_dropout=0.5)))\n",
        "Rnn_model.add(TimeDistributed(Dense(tag_size+1, activation='softmax')))"
      ],
      "metadata": {
        "id": "JVBLtvzP6J1f"
      },
      "execution_count": 269,
      "outputs": []
    },
    {
      "cell_type": "code",
      "execution_count": 270,
      "metadata": {
        "colab": {
          "base_uri": "https://localhost:8080/"
        },
        "id": "8AMYqrJcUUft",
        "outputId": "6fc4d188-362b-48fe-9549-2d87bd2310a3"
      },
      "outputs": [
        {
          "output_type": "stream",
          "name": "stdout",
          "text": [
            "Model: \"sequential_16\"\n",
            "_________________________________________________________________\n",
            " Layer (type)                Output Shape              Param #   \n",
            "=================================================================\n",
            " embedding_15 (Embedding)    (None, 50, 128)           2077440   \n",
            "                                                                 \n",
            " bidirectional_14 (Bidirect  (None, 50, 128)           24704     \n",
            " ional)                                                          \n",
            "                                                                 \n",
            " time_distributed_14 (TimeD  (None, 50, 17)            2193      \n",
            " istributed)                                                     \n",
            "                                                                 \n",
            "=================================================================\n",
            "Total params: 2104337 (8.03 MB)\n",
            "Trainable params: 2104337 (8.03 MB)\n",
            "Non-trainable params: 0 (0.00 Byte)\n",
            "_________________________________________________________________\n"
          ]
        }
      ],
      "source": [
        "Rnn_model.compile(optimizer='adam', loss='sparse_categorical_crossentropy', metrics=['accuracy'])\n",
        "Rnn_model.summary()"
      ]
    },
    {
      "cell_type": "code",
      "execution_count": 276,
      "metadata": {
        "colab": {
          "base_uri": "https://localhost:8080/"
        },
        "id": "w8_fHn85UUft",
        "outputId": "52b20974-6f64-4653-b081-fb0bceaabdc2"
      },
      "outputs": [
        {
          "output_type": "stream",
          "name": "stdout",
          "text": [
            "Epoch 1/5\n",
            "151/151 [==============================] - ETA: 0s - loss: 0.1463 - accuracy: 0.9681"
          ]
        },
        {
          "output_type": "stream",
          "name": "stderr",
          "text": [
            "WARNING:tensorflow:Your input ran out of data; interrupting training. Make sure that your dataset or generator can generate at least `steps_per_epoch * epochs` batches (in this case, 30 batches). You may need to use the repeat() function when building your dataset.\n"
          ]
        },
        {
          "output_type": "stream",
          "name": "stdout",
          "text": [
            "\b\b\b\b\b\b\b\b\b\b\b\b\b\b\b\b\b\b\b\b\b\b\b\b\b\b\b\b\b\b\b\b\b\b\b\b\b\b\b\b\b\b\b\b\b\b\b\b\b\b\b\b\b\b\b\b\b\b\b\b\b\b\b\b\b\b\b\b\b\b\b\b\b\b\b\b\b\b\b\b\b\b\b\b\r151/151 [==============================] - 14s 95ms/step - loss: 0.1463 - accuracy: 0.9681 - val_loss: 1.8694 - val_accuracy: 0.7915\n",
            "Epoch 2/5\n",
            "151/151 [==============================] - 14s 91ms/step - loss: 0.0872 - accuracy: 0.9824\n",
            "Epoch 3/5\n",
            "151/151 [==============================] - 14s 89ms/step - loss: 0.0604 - accuracy: 0.9872\n",
            "Epoch 4/5\n",
            "151/151 [==============================] - 13s 89ms/step - loss: 0.0477 - accuracy: 0.9888\n",
            "Epoch 5/5\n",
            "151/151 [==============================] - 14s 91ms/step - loss: 0.0405 - accuracy: 0.9898\n"
          ]
        }
      ],
      "source": [
        "history = Rnn_model.fit(X_train, y_train, batch_size=32, epochs=5 ,validation_data=(X_validation, y_validation),\n",
        "                    validation_steps=30)"
      ]
    },
    {
      "cell_type": "markdown",
      "metadata": {
        "id": "85JlkIQXorxg"
      },
      "source": [
        "#### RNN Evaluation"
      ]
    },
    {
      "cell_type": "code",
      "execution_count": 277,
      "metadata": {
        "colab": {
          "base_uri": "https://localhost:8080/"
        },
        "id": "KIbOX0X9UUft",
        "outputId": "19b59e8f-bc11-4307-933b-7a84a5571215"
      },
      "outputs": [
        {
          "output_type": "stream",
          "name": "stdout",
          "text": [
            "20/20 [==============================] - 0s 13ms/step - loss: 2.4684 - accuracy: 0.7812\n",
            "Accuracy: 78.12%\n"
          ]
        }
      ],
      "source": [
        "loss, accuracy = Rnn_model.evaluate(x_final_test, y_final_test)\n",
        "print(f'Accuracy: {accuracy * 100:.2f}%')"
      ]
    },
    {
      "cell_type": "markdown",
      "source": [
        "# GRU MODEL"
      ],
      "metadata": {
        "id": "TNe39rbq9KzT"
      }
    },
    {
      "cell_type": "code",
      "source": [
        "GRU_model = Sequential()\n",
        "GRU_model.add(Embedding(input_dim=VOCAB_SIZE, output_dim=128, input_length=max_len))\n",
        "GRU_model.add(Bidirectional(GRU(units=64, return_sequences=True, dropout=0.5, recurrent_dropout=0.5)))\n",
        "GRU_model.add(TimeDistributed(Dense(tag_size+1, activation='softmax')))"
      ],
      "metadata": {
        "id": "KwUOADLB9KOi"
      },
      "execution_count": 279,
      "outputs": []
    },
    {
      "cell_type": "code",
      "execution_count": 280,
      "metadata": {
        "colab": {
          "base_uri": "https://localhost:8080/"
        },
        "id": "e5BORUrWUUft",
        "outputId": "162d1b25-9ba7-48b6-9391-08885e37ab69"
      },
      "outputs": [
        {
          "output_type": "stream",
          "name": "stdout",
          "text": [
            "Model: \"sequential_18\"\n",
            "_________________________________________________________________\n",
            " Layer (type)                Output Shape              Param #   \n",
            "=================================================================\n",
            " embedding_17 (Embedding)    (None, 50, 128)           2077440   \n",
            "                                                                 \n",
            " bidirectional_16 (Bidirect  (None, 50, 128)           74496     \n",
            " ional)                                                          \n",
            "                                                                 \n",
            " time_distributed_16 (TimeD  (None, 50, 17)            2193      \n",
            " istributed)                                                     \n",
            "                                                                 \n",
            "=================================================================\n",
            "Total params: 2154129 (8.22 MB)\n",
            "Trainable params: 2154129 (8.22 MB)\n",
            "Non-trainable params: 0 (0.00 Byte)\n",
            "_________________________________________________________________\n"
          ]
        }
      ],
      "source": [
        "GRU_model.compile(optimizer='adam', loss='sparse_categorical_crossentropy', metrics=['accuracy'])\n",
        "GRU_model.summary()"
      ]
    },
    {
      "cell_type": "code",
      "execution_count": 281,
      "metadata": {
        "id": "37C70N6Aorxh",
        "colab": {
          "base_uri": "https://localhost:8080/"
        },
        "outputId": "ee50b58f-a641-4415-81ac-77e8914e8c4c"
      },
      "outputs": [
        {
          "output_type": "stream",
          "name": "stdout",
          "text": [
            "Epoch 1/5\n",
            "151/151 [==============================] - ETA: 0s - loss: 1.0062 - accuracy: 0.7129"
          ]
        },
        {
          "output_type": "stream",
          "name": "stderr",
          "text": [
            "WARNING:tensorflow:Your input ran out of data; interrupting training. Make sure that your dataset or generator can generate at least `steps_per_epoch * epochs` batches (in this case, 151 batches). You may need to use the repeat() function when building your dataset.\n"
          ]
        },
        {
          "output_type": "stream",
          "name": "stdout",
          "text": [
            "\b\b\b\b\b\b\b\b\b\b\b\b\b\b\b\b\b\b\b\b\b\b\b\b\b\b\b\b\b\b\b\b\b\b\b\b\b\b\b\b\b\b\b\b\b\b\b\b\b\b\b\b\b\b\b\b\b\b\b\b\b\b\b\b\b\b\b\b\b\b\b\b\b\b\b\b\b\b\b\b\b\b\b\b\r151/151 [==============================] - 42s 227ms/step - loss: 1.0062 - accuracy: 0.7129 - val_loss: 1.0745 - val_accuracy: 0.7765\n",
            "Epoch 2/5\n",
            "151/151 [==============================] - 34s 228ms/step - loss: 0.1449 - accuracy: 0.9653\n",
            "Epoch 3/5\n",
            "151/151 [==============================] - 32s 212ms/step - loss: 0.0526 - accuracy: 0.9875\n",
            "Epoch 4/5\n",
            "151/151 [==============================] - 32s 211ms/step - loss: 0.0338 - accuracy: 0.9906\n",
            "Epoch 5/5\n",
            "151/151 [==============================] - 32s 214ms/step - loss: 0.0274 - accuracy: 0.9916\n"
          ]
        }
      ],
      "source": [
        "history = GRU_model.fit(X_train, y_train, batch_size=32, epochs=5 ,validation_data=(X_validation, y_validation),\n",
        "                    validation_steps=151)"
      ]
    },
    {
      "cell_type": "markdown",
      "source": [
        "#### GRU Evaluation"
      ],
      "metadata": {
        "id": "c1XD2Xg0TjtN"
      }
    },
    {
      "cell_type": "code",
      "execution_count": 282,
      "metadata": {
        "id": "LxBF_HEsorxh",
        "colab": {
          "base_uri": "https://localhost:8080/"
        },
        "outputId": "1cc2e7e2-b29e-42e4-85a3-235e88e9c276"
      },
      "outputs": [
        {
          "output_type": "stream",
          "name": "stdout",
          "text": [
            "20/20 [==============================] - 1s 24ms/step - loss: 2.2004 - accuracy: 0.7823\n",
            "Accuracy: 78.23%\n"
          ]
        }
      ],
      "source": [
        "loss, accuracy = GRU_model.evaluate(x_final_test, y_final_test)\n",
        "print(f'Accuracy: {accuracy * 100:.2f}%')"
      ]
    },
    {
      "cell_type": "markdown",
      "source": [
        "# LSTM Model"
      ],
      "metadata": {
        "id": "QJeOCaBATz2W"
      }
    },
    {
      "cell_type": "code",
      "source": [
        "LSTM_model = Sequential()\n",
        "LSTM_model.add(Embedding(input_dim=VOCAB_SIZE, output_dim=128, input_length=max_len))\n",
        "LSTM_model.add(Bidirectional(LSTM(units=64, return_sequences=True, dropout=0.5, recurrent_dropout=0.5)))\n",
        "LSTM_model.add(TimeDistributed(Dense(tag_size+1, activation='softmax')))"
      ],
      "metadata": {
        "id": "qH8euQWVSy7p"
      },
      "execution_count": 283,
      "outputs": []
    },
    {
      "cell_type": "code",
      "source": [
        "LSTM_model.compile(optimizer='adam', loss='sparse_categorical_crossentropy', metrics=['accuracy'])\n",
        "LSTM_model.summary()"
      ],
      "metadata": {
        "colab": {
          "base_uri": "https://localhost:8080/"
        },
        "id": "3CgZVCjiSyvo",
        "outputId": "e95a29c4-9d62-4561-93aa-a10c52111bb0"
      },
      "execution_count": 284,
      "outputs": [
        {
          "output_type": "stream",
          "name": "stdout",
          "text": [
            "Model: \"sequential_19\"\n",
            "_________________________________________________________________\n",
            " Layer (type)                Output Shape              Param #   \n",
            "=================================================================\n",
            " embedding_18 (Embedding)    (None, 50, 128)           2077440   \n",
            "                                                                 \n",
            " bidirectional_17 (Bidirect  (None, 50, 128)           98816     \n",
            " ional)                                                          \n",
            "                                                                 \n",
            " time_distributed_17 (TimeD  (None, 50, 17)            2193      \n",
            " istributed)                                                     \n",
            "                                                                 \n",
            "=================================================================\n",
            "Total params: 2178449 (8.31 MB)\n",
            "Trainable params: 2178449 (8.31 MB)\n",
            "Non-trainable params: 0 (0.00 Byte)\n",
            "_________________________________________________________________\n"
          ]
        }
      ]
    },
    {
      "cell_type": "code",
      "source": [
        "history = LSTM_model.fit(X_train, y_train, batch_size=32, epochs=5 ,validation_data=(X_validation, y_validation),\n",
        "                    validation_steps=30)"
      ],
      "metadata": {
        "colab": {
          "base_uri": "https://localhost:8080/"
        },
        "id": "6sYu35FGSyi_",
        "outputId": "b53f58dd-2bd7-409b-c63f-871baf7a2300"
      },
      "execution_count": 285,
      "outputs": [
        {
          "output_type": "stream",
          "name": "stdout",
          "text": [
            "Epoch 1/5\n",
            "151/151 [==============================] - ETA: 0s - loss: 1.2000 - accuracy: 0.6609"
          ]
        },
        {
          "output_type": "stream",
          "name": "stderr",
          "text": [
            "WARNING:tensorflow:Your input ran out of data; interrupting training. Make sure that your dataset or generator can generate at least `steps_per_epoch * epochs` batches (in this case, 30 batches). You may need to use the repeat() function when building your dataset.\n"
          ]
        },
        {
          "output_type": "stream",
          "name": "stdout",
          "text": [
            "\b\b\b\b\b\b\b\b\b\b\b\b\b\b\b\b\b\b\b\b\b\b\b\b\b\b\b\b\b\b\b\b\b\b\b\b\b\b\b\b\b\b\b\b\b\b\b\b\b\b\b\b\b\b\b\b\b\b\b\b\b\b\b\b\b\b\b\b\b\b\b\b\b\b\b\b\b\b\b\b\b\b\b\b\r151/151 [==============================] - 42s 228ms/step - loss: 1.2000 - accuracy: 0.6609 - val_loss: 0.9545 - val_accuracy: 0.7202\n",
            "Epoch 2/5\n",
            "151/151 [==============================] - 32s 214ms/step - loss: 0.4192 - accuracy: 0.8767\n",
            "Epoch 3/5\n",
            "151/151 [==============================] - 32s 212ms/step - loss: 0.1073 - accuracy: 0.9766\n",
            "Epoch 4/5\n",
            "151/151 [==============================] - 32s 211ms/step - loss: 0.0510 - accuracy: 0.9882\n",
            "Epoch 5/5\n",
            "151/151 [==============================] - 33s 219ms/step - loss: 0.0354 - accuracy: 0.9902\n"
          ]
        }
      ]
    },
    {
      "cell_type": "markdown",
      "source": [
        "#### LSTM Evaluation"
      ],
      "metadata": {
        "id": "CYDvGQ8MUgB0"
      }
    },
    {
      "cell_type": "code",
      "source": [
        "loss, accuracy = LSTM_model.evaluate(x_final_test, y_final_test)\n",
        "print(f'Accuracy: {accuracy * 100:.2f}%')"
      ],
      "metadata": {
        "colab": {
          "base_uri": "https://localhost:8080/"
        },
        "id": "w-S_awsoSyUC",
        "outputId": "33236d5b-1185-455f-b1b6-9a6c2d8892f1"
      },
      "execution_count": 286,
      "outputs": [
        {
          "output_type": "stream",
          "name": "stdout",
          "text": [
            "20/20 [==============================] - 1s 26ms/step - loss: 2.0957 - accuracy: 0.7814\n",
            "Accuracy: 78.14%\n"
          ]
        }
      ]
    },
    {
      "cell_type": "markdown",
      "metadata": {
        "id": "fhVFUaIcorxh"
      },
      "source": [
        "### Enhancement"
      ]
    },
    {
      "cell_type": "code",
      "source": [
        "def pridection(seq):\n",
        "  X_ata = tokenizer.texts_to_sequences([seq.split()])\n",
        "  X_est = pad_sequences(X_ata, maxlen=50, padding='post')\n",
        "  ss = GRU_model.predict(X_est)[0]\n",
        "  for word,i in zip(seq.split(),ss.argmax(axis=1)):\n",
        "    if tag_tokenizer.index_word.get(i) == None:\n",
        "      break\n",
        "    print(word ,\"------>\",tag_tokenizer.index_word.get(i))"
      ],
      "metadata": {
        "id": "_IKWfM-KuRPH"
      },
      "execution_count": 292,
      "outputs": []
    },
    {
      "cell_type": "code",
      "execution_count": 294,
      "metadata": {
        "id": "Y4h1Danvorxh",
        "colab": {
          "base_uri": "https://localhost:8080/"
        },
        "outputId": "1bd283be-18c6-402f-cea9-997a0fb4a564"
      },
      "outputs": [
        {
          "output_type": "stream",
          "name": "stdout",
          "text": [
            "1/1 [==============================] - 0s 31ms/step\n",
            "ذهب ------> verb\n",
            "احمد ------> noun\n",
            "الي ------> adp\n",
            "الرحلة ------> noun\n"
          ]
        }
      ],
      "source": [
        "pridection(\"ذهب احمد الي الرحلة\")"
      ]
    },
    {
      "cell_type": "code",
      "source": [
        "pridection(\"ذهب احمد الي الحديقة 15\")"
      ],
      "metadata": {
        "colab": {
          "base_uri": "https://localhost:8080/"
        },
        "id": "emd2MrkIuqlq",
        "outputId": "28d52f1c-ef63-4f9c-900b-7cb3097fcfac"
      },
      "execution_count": 293,
      "outputs": [
        {
          "output_type": "stream",
          "name": "stdout",
          "text": [
            "1/1 [==============================] - 0s 150ms/step\n",
            "ذهب ------> verb\n",
            "احمد ------> noun\n",
            "الي ------> adp\n",
            "الحديقة ------> noun\n",
            "15 ------> num\n"
          ]
        }
      ]
    },
    {
      "cell_type": "code",
      "source": [
        "pridection(\"رحل الرجل من المدينة الي مدينة , 65\")"
      ],
      "metadata": {
        "colab": {
          "base_uri": "https://localhost:8080/"
        },
        "id": "rMc2R8krvE_7",
        "outputId": "4f1e5712-7494-4b72-cfc1-44abf2313982"
      },
      "execution_count": 295,
      "outputs": [
        {
          "output_type": "stream",
          "name": "stdout",
          "text": [
            "1/1 [==============================] - 0s 30ms/step\n",
            "رحل ------> verb\n",
            "الرجل ------> noun\n",
            "من ------> adp\n",
            "المدينة ------> noun\n",
            "الي ------> adp\n",
            "مدينة ------> noun\n",
            ", ------> punct\n",
            "65 ------> num\n"
          ]
        }
      ]
    },
    {
      "cell_type": "markdown",
      "metadata": {
        "id": "Nw1GVnYLorxi"
      },
      "source": [
        "#### Done!"
      ]
    }
  ],
  "metadata": {
    "colab": {
      "provenance": []
    },
    "kernelspec": {
      "display_name": "Python 3 (ipykernel)",
      "language": "python",
      "name": "python3"
    },
    "language_info": {
      "codemirror_mode": {
        "name": "ipython",
        "version": 3
      },
      "file_extension": ".py",
      "mimetype": "text/x-python",
      "name": "python",
      "nbconvert_exporter": "python",
      "pygments_lexer": "ipython3",
      "version": "3.11.7"
    }
  },
  "nbformat": 4,
  "nbformat_minor": 0
}